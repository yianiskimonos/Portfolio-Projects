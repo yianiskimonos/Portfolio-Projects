{
 "cells": [
  {
   "cell_type": "markdown",
   "id": "46086a7b",
   "metadata": {},
   "source": [
    "# Python Amazon Web Scrapper"
   ]
  },
  {
   "cell_type": "code",
   "execution_count": 1,
   "id": "b509cf4a",
   "metadata": {},
   "outputs": [],
   "source": [
    "# import libraries \n",
    "\n",
    "from bs4 import BeautifulSoup\n",
    "import requests\n",
    "import smtplib\n",
    "import time\n",
    "import datetime"
   ]
  },
  {
   "cell_type": "code",
   "execution_count": 64,
   "id": "42bcc3b4",
   "metadata": {},
   "outputs": [
    {
     "name": "stdout",
     "output_type": "stream",
     "text": [
      "\n",
      "            Koopa Plush Toy, Soft Stuffed Animal Toys Standing Dragon Koopa Bowser Plush Doll Plushies 25cm (Yellow)\n",
      "           \n",
      "\n",
      "                         £15.96\n",
      "                        \n"
     ]
    }
   ],
   "source": [
    "# Connect to website\n",
    "\n",
    "URL = 'https://www.amazon.co.uk/Stuffed-Animal-Standing-Dragon-Plushies/dp/B09VX3MT52?ref_=Oct_d_otopr_d_26275718031_0&pd_rd_w=J3j6I&content-id=amzn1.sym.40bd96af-4108-42bd-bf3a-e1191e0f3c86&pf_rd_p=40bd96af-4108-42bd-bf3a-e1191e0f3c86&pf_rd_r=QAGWSF3MQEKNB16418E2&pd_rd_wg=K2xk6&pd_rd_r=2aff6dfd-5779-46e0-b5dc-aa89883f9995&pd_rd_i=B09VX3MT52'\n",
    "\n",
    "headers = {\"User-Agent\": \"Mozilla/5.0 (Macintosh; Intel Mac OS X 10_15_7) AppleWebKit/537.36 (KHTML, like Gecko) Chrome/114.0.0.0 Safari/537.36\"}\n",
    "\n",
    "page = requests.get(URL, headers=headers)\n",
    "\n",
    "soup1 = BeautifulSoup(page.content, \"html.parser\")\n",
    "\n",
    "soup2 = BeautifulSoup(soup1.prettify(), \"html.parser\") #prettify makes things look better, formats things.\n",
    "\n",
    "title = soup2.find(id='productTitle').get_text()\n",
    "\n",
    "price_span = soup2.find(\"span\", class_=\"a-offscreen\")\n",
    "price = price_span.get_text()\n",
    "\n",
    "print(title)\n",
    "print(price)\n",
    "\n",
    "\n",
    "\n",
    "\n",
    "\n",
    "\n",
    "\n",
    "\n"
   ]
  },
  {
   "cell_type": "code",
   "execution_count": 65,
   "id": "d0327833",
   "metadata": {},
   "outputs": [
    {
     "name": "stdout",
     "output_type": "stream",
     "text": [
      "Koopa Plush Toy, Soft Stuffed Animal Toys Standing Dragon Koopa Bowser Plush Doll Plushies 25cm (Yellow)\n",
      "15.96\n"
     ]
    }
   ],
   "source": [
    "price = price.strip()[1:]\n",
    "title = title.strip()\n",
    "\n",
    "print(title)\n",
    "print(price)\n"
   ]
  },
  {
   "cell_type": "code",
   "execution_count": 66,
   "id": "f8b19f48",
   "metadata": {},
   "outputs": [
    {
     "name": "stdout",
     "output_type": "stream",
     "text": [
      "10-06-2023\n"
     ]
    }
   ],
   "source": [
    "import datetime\n",
    "\n",
    "today = datetime.date.today()\n",
    "\n",
    "formatted_date = today.strftime(\"%d-%m-%Y\")\n",
    "print(formatted_date)"
   ]
  },
  {
   "cell_type": "code",
   "execution_count": 70,
   "id": "05ac9f06",
   "metadata": {},
   "outputs": [],
   "source": [
    "import csv\n",
    "\n",
    "header = ['Title', 'Price', 'Date']\n",
    "data = [title, price, formatted_date] #be sure to make sure type is checked as it can cause issues with the data\n",
    "\n",
    "with open('AmazonWebScraperDataset.csv', 'a+', newline='', encoding='UTF8') as f:\n",
    "    writer = csv.writer(f)\n",
    "    writer.writerow(data)\n",
    "    \n",
    "    \n"
   ]
  },
  {
   "cell_type": "code",
   "execution_count": null,
   "id": "e1fad56d",
   "metadata": {},
   "outputs": [],
   "source": [
    "#import csv\n",
    "\n",
    "#header = ['Title', 'Price', 'Date']\n",
    "#data = [title, price, formatted_date] #be sure to make sure type is checked as it can cause issues with the data\n",
    "\n",
    "#with open('AmazonWebScraperDataset.csv', 'w', newline='', encoding='UTF8') as f:\n",
    "    #writer = csv.writer(f)\n",
    "    #writer.writerow(header)\n",
    "    #writer.writerow(data)\n",
    "    "
   ]
  },
  {
   "cell_type": "code",
   "execution_count": 79,
   "id": "f9a57c57",
   "metadata": {},
   "outputs": [
    {
     "name": "stdout",
     "output_type": "stream",
     "text": [
      "                                               Title  Price        Date\n",
      "0  Koopa Plush Toy, Soft Stuffed Animal Toys Stan...  15.96  10-06-2023\n",
      "1  Koopa Plush Toy, Soft Stuffed Animal Toys Stan...  15.96  10-06-2023\n",
      "2  Koopa Plush Toy, Soft Stuffed Animal Toys Stan...  15.96  10-06-2023\n",
      "3  Koopa Plush Toy, Soft Stuffed Animal Toys Stan...  15.96  10-06-2023\n",
      "4  Koopa Plush Toy, Soft Stuffed Animal Toys Stan...  15.96  10-06-2023\n",
      "5  Koopa Plush Toy, Soft Stuffed Animal Toys Stan...  15.96  10-06-2023\n",
      "6  Koopa Plush Toy, Soft Stuffed Animal Toys Stan...  15.96  10-06-2023\n",
      "7  Koopa Plush Toy, Soft Stuffed Animal Toys Stan...  15.96  10-06-2023\n",
      "8  Koopa Plush Toy, Soft Stuffed Animal Toys Stan...  15.96  10-06-2023\n"
     ]
    }
   ],
   "source": [
    "import pandas as pd\n",
    "\n",
    "df = pd.read_csv('/Users/coding/AmazonWebScraperDataset.csv')\n",
    "print(df)"
   ]
  },
  {
   "cell_type": "code",
   "execution_count": 73,
   "id": "4c7f1eeb",
   "metadata": {},
   "outputs": [],
   "source": [
    "def check_price():\n",
    "    URL = 'https://www.amazon.co.uk/Stuffed-Animal-Standing-Dragon-Plushies/dp/B09VX3MT52?ref_=Oct_d_otopr_d_26275718031_0&pd_rd_w=J3j6I&content-id=amzn1.sym.40bd96af-4108-42bd-bf3a-e1191e0f3c86&pf_rd_p=40bd96af-4108-42bd-bf3a-e1191e0f3c86&pf_rd_r=QAGWSF3MQEKNB16418E2&pd_rd_wg=K2xk6&pd_rd_r=2aff6dfd-5779-46e0-b5dc-aa89883f9995&pd_rd_i=B09VX3MT52'\n",
    "\n",
    "    headers = {\"User-Agent\": \"Mozilla/5.0 (Macintosh; Intel Mac OS X 10_15_7) AppleWebKit/537.36 (KHTML, like Gecko) Chrome/114.0.0.0 Safari/537.36\"}\n",
    "\n",
    "    page = requests.get(URL, headers=headers)\n",
    "\n",
    "    soup1 = BeautifulSoup(page.content, \"html.parser\")\n",
    "\n",
    "    soup2 = BeautifulSoup(soup1.prettify(), \"html.parser\") #prettify makes things look better, formats things.\n",
    "\n",
    "    title = soup2.find(id='productTitle').get_text()\n",
    "\n",
    "    price_span = soup2.find(\"span\", class_=\"a-offscreen\")\n",
    "    price = price_span.get_text()\n",
    "    \n",
    "    price = price.strip()[1:]\n",
    "    title = title.strip()\n",
    "    \n",
    "    import datetime\n",
    "\n",
    "    today = datetime.date.today()\n",
    "\n",
    "    formatted_date = today.strftime(\"%d-%m-%Y\")\n",
    "    \n",
    "    import csv\n",
    "\n",
    "    header = ['Title', 'Price', 'Date']\n",
    "    data = [title, price, formatted_date] #be sure to make sure type is checked as it can cause issues with the data\n",
    "\n",
    "    with open('AmazonWebScraperDataset.csv', 'a+', newline='', encoding='UTF8') as f:\n",
    "        writer = csv.writer(f)\n",
    "        writer.writerow(data)\n",
    "        \n",
    "    if(price < 14):\n",
    "        send_mail()\n",
    "    \n"
   ]
  },
  {
   "cell_type": "code",
   "execution_count": 80,
   "id": "cd1e9117",
   "metadata": {},
   "outputs": [
    {
     "ename": "KeyboardInterrupt",
     "evalue": "",
     "output_type": "error",
     "traceback": [
      "\u001b[0;31m---------------------------------------------------------------------------\u001b[0m",
      "\u001b[0;31mKeyboardInterrupt\u001b[0m                         Traceback (most recent call last)",
      "Cell \u001b[0;32mIn[80], line 3\u001b[0m\n\u001b[1;32m      1\u001b[0m \u001b[38;5;28;01mwhile\u001b[39;00m(\u001b[38;5;28;01mTrue\u001b[39;00m):\n\u001b[1;32m      2\u001b[0m     check_price()\n\u001b[0;32m----> 3\u001b[0m     \u001b[43mtime\u001b[49m\u001b[38;5;241;43m.\u001b[39;49m\u001b[43msleep\u001b[49m\u001b[43m(\u001b[49m\u001b[38;5;241;43m5\u001b[39;49m\u001b[43m)\u001b[49m\n",
      "\u001b[0;31mKeyboardInterrupt\u001b[0m: "
     ]
    }
   ],
   "source": [
    "while(True):\n",
    "    check_price()\n",
    "    time.sleep(5)"
   ]
  },
  {
   "cell_type": "code",
   "execution_count": 2,
   "id": "c3b413d4",
   "metadata": {},
   "outputs": [
    {
     "ename": "SyntaxError",
     "evalue": "unterminated string literal (detected at line 12) (652797441.py, line 12)",
     "output_type": "error",
     "traceback": [
      "\u001b[0;36m  Cell \u001b[0;32mIn[2], line 12\u001b[0;36m\u001b[0m\n\u001b[0;31m    body = \"Yianis, This is the moment we have been waiting for. Now is your chance to pick up the shirt of your dreams.Don't mess\u001b[0m\n\u001b[0m           ^\u001b[0m\n\u001b[0;31mSyntaxError\u001b[0m\u001b[0;31m:\u001b[0m unterminated string literal (detected at line 12)\n"
     ]
    }
   ],
   "source": [
    "    if(price < 14):\n",
    "        send_mail()\n",
    "\n",
    "def send mail ():\n",
    "    server = smtplib.SMTP SSL('smtp.gmail.com',465)\n",
    "    server.ehlo()\n",
    "    #server.starttls()\n",
    "    server.ehlo()\n",
    "    server. login('yianis@gmail.com','xxxxxxxxxxxxxx')\n",
    "    \n",
    "    subject = \"The shirt you want is below $15! Now is your chance to buy!\"\n",
    "    body = \"Yianis, This is the moment we have been waiting for. Now is your chance to pick up the shirt of your dreams.Don't mess\n",
    "    \n",
    "    msg = f\"Subject: {subject}\\n\\n{body}\"\n",
    "    \n",
    "    server. sendmail\n",
    "        'yianis@gmail.com'"
   ]
  },
  {
   "cell_type": "code",
   "execution_count": null,
   "id": "38656244",
   "metadata": {},
   "outputs": [],
   "source": []
  },
  {
   "cell_type": "code",
   "execution_count": null,
   "id": "13e179aa",
   "metadata": {},
   "outputs": [],
   "source": []
  }
 ],
 "metadata": {
  "kernelspec": {
   "display_name": "Python 3 (ipykernel)",
   "language": "python",
   "name": "python3"
  },
  "language_info": {
   "codemirror_mode": {
    "name": "ipython",
    "version": 3
   },
   "file_extension": ".py",
   "mimetype": "text/x-python",
   "name": "python",
   "nbconvert_exporter": "python",
   "pygments_lexer": "ipython3",
   "version": "3.10.9"
  }
 },
 "nbformat": 4,
 "nbformat_minor": 5
}
